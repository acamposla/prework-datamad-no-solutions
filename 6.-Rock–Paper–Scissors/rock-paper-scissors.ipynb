{
 "cells": [
  {
   "cell_type": "code",
   "execution_count": null,
   "metadata": {},
   "outputs": [],
   "source": []
  },
  {
   "cell_type": "code",
   "execution_count": null,
   "metadata": {},
   "outputs": [],
   "source": []
  },
  {
   "cell_type": "markdown",
   "metadata": {},
   "source": [
    "<img src=\"https://bit.ly/2VnXWr2\" width=\"100\" align=\"left\">"
   ]
  },
  {
   "cell_type": "markdown",
   "metadata": {},
   "source": [
    "# Rock, Paper & Scissors\n",
    "\n",
    "Let's play the famous game against our computer. You can check the rules [here](https://en.wikipedia.org/wiki/Rock%E2%80%93paper%E2%80%93scissors). \n",
    "\n",
    "## Task\n",
    "Create a program that imitates the playability of the well known game of rock, paper, scissors. Follow the guidelines provided.\n",
    "\n",
    "## Tools\n",
    "1. Loop: **for/while**\n",
    "2. Functions: **input(), print()...**\n",
    "3. Conditional statements: **if, elif, else**\n",
    "4. Definition of functions. Modular programming\n",
    "5. Import modules\n",
    "\n",
    "**To solve this challenge, the use of functions is recommended.**\n",
    "\n",
    "#### 1. Import the choice function of the random module."
   ]
  },
  {
   "cell_type": "code",
   "execution_count": null,
   "metadata": {},
   "outputs": [],
   "source": [
    "from random import choice"
   ]
  },
  {
   "cell_type": "markdown",
   "metadata": {},
   "source": [
    "#### 2. Create a list that includes the 3 possible gesture options of the game: 'rock', 'paper' or 'scissors'. Store the list in a variable called `gestures`."
   ]
  },
  {
   "cell_type": "code",
   "execution_count": null,
   "metadata": {},
   "outputs": [],
   "source": [
    "gestures = [\"Rock\", \"Paper\", \"Scissors\"]\n"
   ]
  },
  {
   "cell_type": "markdown",
   "metadata": {},
   "source": [
    "#### 3. Create a variable called `n_rounds` to store the maximum number of rounds to play in a game. \n",
    "Remember that the number of rounds must be odd: 1, 3, 5, ..."
   ]
  },
  {
   "cell_type": "code",
   "execution_count": null,
   "metadata": {},
   "outputs": [],
   "source": [
    "n_rounds = 3\n",
    "print(f\"Number of rounds: {n_rounds}\")\n"
   ]
  },
  {
   "cell_type": "markdown",
   "metadata": {},
   "source": [
    "#### 4. Create a variable called `rounds_to_win` to store the number of rounds that a player must win to win the game.\n",
    "**Hint**: the value stored in `rounds_to_win` depends on the value of `n_rounds`. "
   ]
  },
  {
   "cell_type": "code",
   "execution_count": null,
   "metadata": {},
   "outputs": [],
   "source": [
    "rounds_to_win = 2\n",
    "print (f\"Rounds to win: {rounds_to_win}\")\n"
   ]
  },
  {
   "cell_type": "markdown",
   "metadata": {},
   "source": [
    "#### 5. Create two variables to store the number of rounds that the computer and the player have won. Call these variables `cpu_score` and `player_score`."
   ]
  },
  {
   "cell_type": "code",
   "execution_count": null,
   "metadata": {},
   "outputs": [],
   "source": [
    "cpu_score = 0\n",
    "player_score = 0"
   ]
  },
  {
   "cell_type": "markdown",
   "metadata": {},
   "source": [
    "#### 6. Define a function that randomly returns one of the 3 gesture options.\n",
    "You will use this function to simulate the gesture choice of the computer. "
   ]
  },
  {
   "cell_type": "code",
   "execution_count": null,
   "metadata": {
    "scrolled": true
   },
   "outputs": [],
   "source": [
    "def machine(gestures):\n",
    "\tmachine_election = choice(gestures)\n",
    "\treturn machine_election\n",
    "\n",
    "machine = machine(gestures) "
   ]
  },
  {
   "cell_type": "markdown",
   "metadata": {},
   "source": [
    "#### 7. Define a function that asks the player which is the gesture he or she wants to show: 'rock', 'paper' or 'scissors'.\n",
    "The player should only be allowed to choose one of the 3 gesture options. If the player's choice is not rock, paper or scissors, keep asking until it is."
   ]
  },
  {
   "cell_type": "code",
   "execution_count": null,
   "metadata": {},
   "outputs": [],
   "source": [
    "def player():\n",
    "\tquestion = input(\"Choose between Rock, Scissors or Paper: \")\n",
    "\tif question == \"Rock\":\n",
    "\t\tquestion = \"Rock\"\n",
    "\telif question == \"Scissors\":\n",
    "\t\tquestion = \"Scissors\"\n",
    "\telif question == \"Paper\":\n",
    "\t\tquestion = \"Paper\"\n",
    "\n",
    "\telse:\n",
    "\t\tprint (\"Wrong answer, try again\")\n",
    "\t\tplayer()\n",
    "\n",
    "\treturn question\n",
    "\n",
    "player = player()\n"
   ]
  },
  {
   "cell_type": "code",
   "execution_count": null,
   "metadata": {},
   "outputs": [],
   "source": [
    "def game (player, machine):\n",
    "    if player == \"Rock\":\n",
    "        if machine == \"Rock\":\n",
    "            return 0\n",
    "        elif machine == \"Paper\":\n",
    "            return 1\n",
    "        elif machine == \"Scissors\":\n",
    "            return 2\n",
    "\t\t\n",
    "\n",
    "    elif player == \"paper\":\n",
    "        if machine == \"Paper\":\n",
    "            return 0\n",
    "        elif machine == \"Scissors\":\n",
    "            return 1\n",
    "        elif machine == \"Rock\":\n",
    "            return 2\n",
    "\n",
    "\n",
    "    elif player == \"scissors\":\n",
    "        if machine == \"Scissors\":\n",
    "            return 0\n",
    "        elif machine == \"Rock\":\n",
    "            return 1\n",
    "        elif machine == \"Paper\":\n",
    "            return 2\n",
    "\n",
    "\n",
    "winner = game (player, machine)\n"
   ]
  },
  {
   "cell_type": "markdown",
   "metadata": {},
   "source": [
    "#### 8. Define a function that checks who won a round. \n",
    "The function should return 0 if there is a tie, 1 if the computer wins and 2 if the player wins."
   ]
  },
  {
   "cell_type": "markdown",
   "metadata": {},
   "source": [
    "#### 9. Define a function that prints the choice of the computer, the choice of the player and a message that announces who won the current round. \n",
    "You should also use this function to update the variables that count the number of rounds that the computer and the player have won. The score of the winner increases by one point. If there is a tie, the score does not increase."
   ]
  },
  {
   "cell_type": "code",
   "execution_count": null,
   "metadata": {},
   "outputs": [],
   "source": [
    "def announment (winner, player, machine):\n",
    "\tmessege = \"\"\n",
    "\tif winner == 0:\n",
    "\t\tmessege = \"Its been a tie\"\n",
    "\t\tprint (f\"-Human option was {player} \\n-Machine option was {machine} \\n-{messege}\")\n",
    "\t\t\n",
    "\telif winner == 1:\n",
    "\t\tmessege = \"Machine has won\"\n",
    "\t\tprint (f\"-Human option was {player} \\n-Machine option was {machine} \\n-{messege}\")\n",
    "\n",
    "\telif winner == 2:\n",
    "\t\tmessege = \"Human has won\"\n",
    "\t\tprint (f\"-Human option was {player} \\n-Machine option was {machine} \\n-{messege}\")\n",
    "\n",
    "announment (winner, player, machine)"
   ]
  },
  {
   "cell_type": "markdown",
   "metadata": {},
   "source": [
    "#### 10. Now it's time to code the execution of the game using the functions and variables you defined above. \n",
    "\n",
    "First, create a loop structure that repeats while no player reaches the minimum score necessary to win and the number of rounds is less than the maximum number of rounds to play in a game.  \n",
    "\n",
    "Inside the loop, use the functions and variables above to create the execution of a round: ask for the player's choice, generate the random choice of the computer, show the round results, update the scores, etc. "
   ]
  },
  {
   "cell_type": "code",
   "execution_count": null,
   "metadata": {},
   "outputs": [],
   "source": [
    "\n",
    "\n",
    "from random import choice \n",
    "\n",
    "gestures = [\"Rock\", \"Paper\", \"Scissors\"]\n",
    "\n",
    "\n",
    "rounds_to_win = 2\n",
    "\n",
    "print (f\"Rounds to win: {rounds_to_win}\")\n",
    "\n",
    "n_rounds = 3\n",
    "print(f\"Number of rounds: {n_rounds}\")\n",
    "\n",
    "games = 0\n",
    "played_rounds = 0\n",
    "cpu_score = 0\n",
    "player_score = 0\n",
    "ties = 0\n",
    "\n",
    "\n",
    "\t\n",
    "\n",
    "\n",
    "while True:\n",
    "\n",
    "\n",
    "\tdef machine(gestures):\n",
    "\t\tmachine_election = choice(gestures)\n",
    "\t\treturn machine_election\n",
    "\n",
    "\n",
    "\t\t\n",
    "\tmachine = machine(gestures) \n",
    "\n",
    "\tdef player():\n",
    "\t\tquestion = input(\"Choose between Rock, Scissors or Paper: \")\n",
    "\t\tif question == \"Rock\":\n",
    "\t\t\tquestion = \"Rock\"\n",
    "\t\telif question == \"Scissors\":\n",
    "\t\t\tquestion = \"Scissors\"\n",
    "\t\telif question == \"Paper\":\n",
    "\t\t\tquestion = \"Paper\"\n",
    "\t\telse:\n",
    "\t\t\tprint (\"Wrong answer, try again\")\n",
    "\t\t\tplayer()\n",
    "\n",
    "\t\t\treturn question\n",
    "\n",
    "\tplayer = player()\n",
    "\n",
    "\tdef game (player, machine):\n",
    "\t\tif player == \"Rock\":\n",
    "\t\t\tif machine == \"Rock\":\n",
    "\t\t \t\treturn 0\n",
    "\t\telif machine == \"Paper\":\n",
    "\t\t\treturn 1\n",
    "\t\telif machine == \"Scissors\":\n",
    "\t\t\treturn 2\n",
    "\t\t\n",
    "\n",
    "\n",
    "\n",
    "\t\tif player == \"paper\":\n",
    "\t\t\tif machine == \"Paper\":\n",
    "\t\t\t\treturn 0\n",
    "\t\t\n",
    "\t\telif machine == \"Scissors\":\n",
    "\t\t\treturn 1\n",
    "\t\telif machine == \"Rock\":\n",
    "\t\t\treturn 2\n",
    "\n",
    "\n",
    "\t\tif player == \"scissors\":\n",
    "\t\t\tif machine == \"Scissors\":\n",
    "\t\t \t\treturn 0\n",
    "\t\telif machine == \"Rock\":\n",
    "\t\t\treturn 1\n",
    "\t\telif machine == \"Paper\":\n",
    "\t\t\treturn 2\n",
    "\n",
    "\n",
    "\twinner = game (player, machine)\n",
    "\n",
    "\tdef announment (winner, player, machine):\n",
    "\t\tmessege = \"\"\n",
    "\t\tif winner == 0:\n",
    "\t\t\tmessege = \"Its been a tie\"\n",
    "\t\t\tprint (f\"-Human option was {player} \\n-Machine option was {machine} \\n-{messege}\")\n",
    "\n",
    "\n",
    "\t\t\n",
    "\t\telif winner == 1:\n",
    "\t\t\tmessege = \"Machine has won\"\n",
    "\t\t\tprint (f\"-Human option was {player} \\n-Machine option was {machine} \\n-{messege}\")\n",
    "\n",
    "\t\telif winner == 2:\n",
    "\t\t\tmessege = \"Human has won\"\n",
    "\t\t\tprint (f\"-Human option was {player} \\n-Machine option was {machine} \\n-{messege}\")\n",
    "\n",
    "\n",
    "\tannounment(winner, player, machine)\n",
    "\n",
    "\trepeat = input (\"Play again= (Y/N) \").lower()\n",
    "\twhile repeat != \"n\" and repeat != \"y\":\n",
    "\t\trepeat = input(\"Invalid answer, try again: \").lower()\n",
    "\n",
    "\tif repeat ==\"n\":\n",
    "\t\tbreak\n",
    "\n"
   ]
  },
  {
   "cell_type": "markdown",
   "metadata": {},
   "source": [
    "#### 11. Print the winner of the game based on who won more rounds.\n",
    "Remember that the game might be tied. "
   ]
  },
  {
   "cell_type": "code",
   "execution_count": null,
   "metadata": {},
   "outputs": [],
   "source": [
    "\n",
    "\n",
    "from random import choice \n",
    "\n",
    "gestures = [\"Rock\", \"Paper\", \"Scissors\"]\n",
    "\n",
    "\n",
    "rounds_to_win = 2\n",
    "\n",
    "print (f\"Rounds to win: {rounds_to_win}\")\n",
    "\n",
    "n_rounds = 3\n",
    "print(f\"Number of rounds: {n_rounds}\")\n",
    "\n",
    "games = 0\n",
    "played_rounds = 0\n",
    "cpu_score = 0\n",
    "player_score = 0\n",
    "ties = 0\n",
    "\n",
    "\n",
    "\t\n",
    "\n",
    "\n",
    "while True:\n",
    "\n",
    "\n",
    "\tdef machine(gestures):\n",
    "\t\tmachine_election = choice(gestures)\n",
    "\t\treturn machine_election\n",
    "\n",
    "\n",
    "\t\t\n",
    "\tmachine = machine(gestures) \n",
    "\n",
    "\tdef player():\n",
    "\t\tquestion = input(\"Choose between Rock, Scissors or Paper: \")\n",
    "\t\tif question == \"Rock\":\n",
    "\t\t\tquestion = \"Rock\"\n",
    "\t\telif question == \"Scissors\":\n",
    "\t\t\tquestion = \"Scissors\"\n",
    "\t\telif question == \"Paper\":\n",
    "\t\t\tquestion = \"Paper\"\n",
    "\t\telse:\n",
    "\t\t\tprint (\"Wrong answer, try again\")\n",
    "\t\t\tplayer()\n",
    "\n",
    "\t\t\treturn question\n",
    "\n",
    "\tplayer = player()\n",
    "\n",
    "\tdef game (player, machine):\n",
    "\t\tif player == \"Rock\":\n",
    "\t\t\tif machine == \"Rock\":\n",
    "\t\t \t\treturn 0\n",
    "\t\telif machine == \"Paper\":\n",
    "\t\t\treturn 1\n",
    "\t\telif machine == \"Scissors\":\n",
    "\t\t\treturn 2\n",
    "\t\t\n",
    "\n",
    "\n",
    "\n",
    "\t\tif player == \"paper\":\n",
    "\t\t\tif machine == \"Paper\":\n",
    "\t\t\t\treturn 0\n",
    "\t\t\n",
    "\t\telif machine == \"Scissors\":\n",
    "\t\t\treturn 1\n",
    "\t\telif machine == \"Rock\":\n",
    "\t\t\treturn 2\n",
    "\n",
    "\n",
    "\t\tif player == \"scissors\":\n",
    "\t\t\tif machine == \"Scissors\":\n",
    "\t\t \t\treturn 0\n",
    "\t\telif machine == \"Rock\":\n",
    "\t\t\treturn 1\n",
    "\t\telif machine == \"Paper\":\n",
    "\t\t\treturn 2\n",
    "\n",
    "\n",
    "\twinner = game (player, machine)\n",
    "\n",
    "\tdef announment (winner, player, machine):\n",
    "\t\tmessege = \"\"\n",
    "\t\tif winner == 0:\n",
    "\t\t\tmessege = \"Its been a tie\"\n",
    "\t\t\tprint (f\"-Human option was {player} \\n-Machine option was {machine} \\n-{messege}\")\n",
    "\n",
    "\n",
    "\t\t\n",
    "\t\telif winner == 1:\n",
    "\t\t\tmessege = \"Machine has won\"\n",
    "\t\t\tprint (f\"-Human option was {player} \\n-Machine option was {machine} \\n-{messege}\")\n",
    "\n",
    "\t\telif winner == 2:\n",
    "\t\t\tmessege = \"Human has won\"\n",
    "\t\t\tprint (f\"-Human option was {player} \\n-Machine option was {machine} \\n-{messege}\")\n",
    "\n",
    "\n",
    "\tannounment(winner, player, machine)\n",
    "\n",
    "\trepeat = input (\"Play again= (Y/N) \").lower()\n",
    "\twhile repeat != \"n\" and repeat != \"y\":\n",
    "\t\trepeat = input(\"Invalid answer, try again: \").lower()\n",
    "\n",
    "\tif repeat ==\"n\":\n",
    "\t\tbreak\n",
    "\n"
   ]
  },
  {
   "cell_type": "markdown",
   "metadata": {},
   "source": [
    "# Bonus: Rock, Paper, Scissors, Lizard & Spock\n",
    "![](images/rpsls.jpg)\n",
    "\n",
    "In this challenge, you need to improve the previous game by adding two new options. To know more about the rules of the improved version of rock, paper, scissors, check this [link](http://www.samkass.com/theories/RPSSL.html). \n",
    "\n",
    "In addition, you will also need to improve how the game interacts with the player: the number of rounds to play, which must be an odd number, will be requested to the user until a valid number is entered. Define a new function to make that request.\n",
    "\n",
    "**Hint**: Try to reuse the code that you already coded in the previous challenge. If your code is efficient, this bonus will only consist of simple modifications to the original game."
   ]
  },
  {
   "cell_type": "code",
   "execution_count": null,
   "metadata": {},
   "outputs": [],
   "source": []
  }
 ],
 "metadata": {
  "kernelspec": {
   "display_name": "Python 3",
   "language": "python",
   "name": "python3"
  },
  "language_info": {
   "codemirror_mode": {
    "name": "ipython",
    "version": 3
   },
   "file_extension": ".py",
   "mimetype": "text/x-python",
   "name": "python",
   "nbconvert_exporter": "python",
   "pygments_lexer": "ipython3",
   "version": "3.8.3"
  }
 },
 "nbformat": 4,
 "nbformat_minor": 2
}
